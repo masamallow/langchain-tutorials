{
 "cells": [
  {
   "metadata": {},
   "cell_type": "markdown",
   "source": [
    "# Build a Simple LLM Application with LCEL\n",
    "\n",
    "ref. [Build a Simple LLM Application with LCEL \\| 🦜️🔗 LangChain](https://python.langchain.com/docs/tutorials/llm_chain/)"
   ],
   "id": "7a2f727e71665314"
  },
  {
   "metadata": {
    "collapsed": true,
    "jupyter": {
     "is_executing": true
    }
   },
   "cell_type": "code",
   "source": [
    "import os\n",
    "\n",
    "os.environ[\"LANGCHAIN_TRACING_V2\"] = \"true\"\n",
    "os.environ[\"LANGCHAIN_ENDPOINT\"] = \"https://api.smith.langchain.com\"\n",
    "os.environ[\"LANGCHAIN_PROJECT\"] = \"langchain-tutorials\""
   ],
   "id": "initial_id",
   "outputs": [],
   "execution_count": null
  },
  {
   "metadata": {},
   "cell_type": "markdown",
   "source": [
    "First, I decided to use the OpenAI language model.  \n",
    "Create .env file under notebook directory and set the following environment variables.\n",
    "\n",
    "```\n",
    "LANGCHAIN_API_KEY=**********\n",
    "OPENAI_API_KEY=**********\n",
    "```"
   ],
   "id": "3d220446964877af"
  },
  {
   "metadata": {
    "jupyter": {
     "is_executing": true
    }
   },
   "cell_type": "code",
   "source": [
    "from dotenv import load_dotenv\n",
    "\n",
    "load_dotenv(dotenv_path=\"../.env\")"
   ],
   "id": "4d50f2a2233e135c",
   "outputs": [],
   "execution_count": null
  },
  {
   "metadata": {
    "jupyter": {
     "is_executing": true
    }
   },
   "cell_type": "code",
   "source": "os.environ[\"OPENAI_API_KEY\"]",
   "id": "27a269de9e385df1",
   "outputs": [],
   "execution_count": null
  },
  {
   "metadata": {},
   "cell_type": "code",
   "source": [
    "from langchain_openai import ChatOpenAI\n",
    "\n",
    "# llm = ChatOpenAI(model=\"gpt-4\")\n",
    "# maybe not available because of legacy(?)\n",
    "\n",
    "# llm = ChatOpenAI(model=\"text-davinci-003\")\n",
    "# deprecated\n",
    "\n",
    "llm_4o = ChatOpenAI(model=\"gpt-4o\")\n",
    "# llm_4o_mini = ChatOpenAI(model=\"gpt-4o-mini\")\n",
    "llm_35 = ChatOpenAI(model=\"gpt-3.5-turbo\")\n",
    "llm_cheap = ChatOpenAI(model=\"gpt-3.5-turbo\", max_tokens=100, top_p=0.1)"
   ],
   "id": "89412eff6f3a7662",
   "outputs": [],
   "execution_count": null
  },
  {
   "metadata": {},
   "cell_type": "code",
   "source": [
    "from langchain_core.messages import HumanMessage, SystemMessage\n",
    "\n",
    "messages = [\n",
    "    SystemMessage(content=\"Translate the following from English into Japanese\"),\n",
    "    HumanMessage(content=\"hi!\"),\n",
    "]"
   ],
   "id": "ca6400e38c95a6ff",
   "outputs": [],
   "execution_count": null
  },
  {
   "metadata": {},
   "cell_type": "code",
   "source": "llm_4o.invoke(messages)",
   "id": "58cbbf2f3139031a",
   "outputs": [],
   "execution_count": null
  },
  {
   "metadata": {},
   "cell_type": "markdown",
   "source": [
    "gpt-4o\n",
    "\n",
    "```\n",
    "AIMessage(\n",
    "    content='こんにちは！',\n",
    "    additional_kwargs={'refusal': None},\n",
    "    response_metadata={\n",
    "        'token_usage': {\n",
    "            'completion_tokens': 2,\n",
    "            'prompt_tokens': 20,\n",
    "            'total_tokens': 22,\n",
    "            'completion_tokens_details': {'audio_tokens': None, 'reasoning_tokens': 0},\n",
    "            'prompt_tokens_details': {'audio_tokens': None, 'cached_tokens': 0}\n",
    "        },\n",
    "        'model_name': 'gpt-4o-2024-08-06',\n",
    "        'system_fingerprint': 'fp_e5e4913e83',\n",
    "        'finish_reason': 'stop',\n",
    "        'logprobs': None\n",
    "    },\n",
    "    id='run-**********',\n",
    "    usage_metadata={\n",
    "        'input_tokens': 20,\n",
    "        'output_tokens': 2,\n",
    "        'total_tokens': 22,\n",
    "        'input_token_details': {'cache_read': 0},\n",
    "        'output_token_details': {'reasoning': 0}\n",
    "    }\n",
    ")\n",
    "```"
   ],
   "id": "644178b472af2636"
  },
  {
   "metadata": {},
   "cell_type": "code",
   "source": "llm_35.invoke(messages)",
   "id": "eb1944243b17b0c2",
   "outputs": [],
   "execution_count": null
  },
  {
   "metadata": {},
   "cell_type": "markdown",
   "source": [
    "gpt-3.5-turbo\n",
    "\n",
    "```\n",
    "AIMessage(\n",
    "    content='こんにちは！',\n",
    "    additional_kwargs={'refusal': None},\n",
    "    response_metadata={\n",
    "        'token_usage': {\n",
    "            'completion_tokens': 2,\n",
    "            'prompt_tokens': 20,\n",
    "            'total_tokens': 22,\n",
    "            'completion_tokens_details': {'audio_tokens': None, 'reasoning_tokens': 0},\n",
    "            'prompt_tokens_details': {'audio_tokens': None, 'cached_tokens': 0}\n",
    "        },\n",
    "        'model_name': 'gpt-3.5-turbo-0125',\n",
    "        'system_fingerprint': None,\n",
    "        'finish_reason': 'stop',\n",
    "        'logprobs': None\n",
    "    },\n",
    "    id='run-**********',\n",
    "    usage_metadata={\n",
    "        'input_tokens': 20,\n",
    "        'output_tokens': 2,\n",
    "        'total_tokens': 22,\n",
    "        'input_token_details': {'cache_read': 0},\n",
    "        'output_token_details': {'reasoning': 0}\n",
    "    }\n",
    ")\n",
    "```"
   ],
   "id": "8760b1116cd26823"
  },
  {
   "metadata": {},
   "cell_type": "code",
   "source": "llm_cheap.invoke(messages)",
   "id": "7ed42e965a52c2d6",
   "outputs": [],
   "execution_count": null
  },
  {
   "metadata": {},
   "cell_type": "markdown",
   "source": [
    "gpt-3.5-turbo, max_tokens=100, top_p=0.1\n",
    "\n",
    "```\n",
    "AIMessage(\n",
    "    content='こんにちは！',\n",
    "    additional_kwargs={'refusal': None},\n",
    "    response_metadata={\n",
    "        'token_usage': {\n",
    "            'completion_tokens': 2,\n",
    "            'prompt_tokens': 20,\n",
    "            'total_tokens': 22,\n",
    "            'completion_tokens_details': {'audio_tokens': None, 'reasoning_tokens': 0},\n",
    "            'prompt_tokens_details': {'audio_tokens': None, 'cached_tokens': 0}\n",
    "        },\n",
    "        'model_name': 'gpt-3.5-turbo-0125',\n",
    "        'system_fingerprint': None,\n",
    "        'finish_reason': 'stop',\n",
    "        'logprobs': None\n",
    "    },\n",
    "    id='run-**********',\n",
    "    usage_metadata={\n",
    "        'input_tokens': 20,\n",
    "        'output_tokens': 2,\n",
    "        'total_tokens': 22,\n",
    "        'input_token_details': {'cache_read': 0},\n",
    "        'output_token_details': {'reasoning': 0}\n",
    "    }\n",
    ")\n",
    "```"
   ],
   "id": "63fba7585851ec95"
  },
  {
   "metadata": {},
   "cell_type": "code",
   "source": "",
   "id": "318c9810704cb367",
   "outputs": [],
   "execution_count": null
  }
 ],
 "metadata": {
  "kernelspec": {
   "display_name": "Python 3",
   "language": "python",
   "name": "python3"
  },
  "language_info": {
   "codemirror_mode": {
    "name": "ipython",
    "version": 2
   },
   "file_extension": ".py",
   "mimetype": "text/x-python",
   "name": "python",
   "nbconvert_exporter": "python",
   "pygments_lexer": "ipython2",
   "version": "2.7.6"
  }
 },
 "nbformat": 4,
 "nbformat_minor": 5
}
