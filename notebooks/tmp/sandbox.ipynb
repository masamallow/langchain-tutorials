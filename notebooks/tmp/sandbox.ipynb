{
 "cells": [
  {
   "metadata": {},
   "cell_type": "markdown",
   "source": [
    "- Table of Content\n",
    "{:toc}\n",
    "\n",
    "# Sandbox"
   ],
   "id": "d6adfa5fc7d0e2a9"
  },
  {
   "metadata": {},
   "cell_type": "markdown",
   "source": [
    "## mermaid\n",
    "\n",
    "```mermaid\n",
    "%%{init: {'flowchart': {'curve': 'linear'}}}%%\n",
    "graph TD;\n",
    "\t__start__([<p>__start__</p>]):::first\n",
    "\tagent(agent)\n",
    "\ttools(tools)\n",
    "\t__end__([<p>__end__</p>]):::last\n",
    "\t__start__ --> agent;\n",
    "\ttools --> agent;\n",
    "\tagent -.-> tools;\n",
    "\tagent -.-> __end__;\n",
    "\tclassDef default fill:#f2f0ff,line-height:1.2\n",
    "\tclassDef first fill-opacity:0\n",
    "\tclassDef last fill:#bfb6fc\n",
    "```"
   ],
   "id": "f3098f25498033d8"
  },
  {
   "metadata": {},
   "cell_type": "markdown",
   "source": [
    "## LaTeX\n",
    "\n",
    "### Normal distribution\n",
    "\n",
    "$$ f(x) = \\frac{1}{\\sqrt {2\\pi \\sigma^2}} \\exp\\!\\left( -\\frac{(x-\\mu)^2}{2\\sigma^2} \\right) $$\n",
    "\n",
    "### Matrix\n",
    "\n",
    "$$\n",
    "\\begin{eqnarray}\n",
    "A = \\left(\n",
    "  \\begin{array}{cccc}\n",
    "    a_{ 11 } & a_{ 12 } & \\ldots & a_{ 1n } \\\\\n",
    "    a_{ 21 } & a_{ 22 } & \\ldots & a_{ 2n } \\\\\n",
    "    \\vdots & \\vdots & \\ddots & \\vdots \\\\\n",
    "    a_{ m1 } & a_{ m2 } & \\ldots & a_{ mn }\n",
    "  \\end{array}\n",
    "\\right)\n",
    "\\end{eqnarray}\n",
    "$$"
   ],
   "id": "995a99fab9dbe2b1"
  }
 ],
 "metadata": {
  "kernelspec": {
   "display_name": "Python 3",
   "language": "python",
   "name": "python3"
  },
  "language_info": {
   "codemirror_mode": {
    "name": "ipython",
    "version": 2
   },
   "file_extension": ".py",
   "mimetype": "text/x-python",
   "name": "python",
   "nbconvert_exporter": "python",
   "pygments_lexer": "ipython2",
   "version": "2.7.6"
  }
 },
 "nbformat": 4,
 "nbformat_minor": 5
}
